{
 "cells": [
  {
   "cell_type": "code",
   "execution_count": 147,
   "metadata": {},
   "outputs": [],
   "source": [
    "import numpy as np\n",
    "import pandas as pd\n",
    "import seaborn as sns\n",
    "import matplotlib.pyplot as plt\n"
   ]
  },
  {
   "cell_type": "code",
   "execution_count": 148,
   "metadata": {},
   "outputs": [
    {
     "name": "stdout",
     "output_type": "stream",
     "text": [
      "daewoo        8\n",
      "volkswagen    1\n",
      "audi          2\n",
      "bmw           3\n",
      "tesla         9\n"
     ]
    }
   ],
   "source": [
    "fuzzy_set = {\n",
    "    'daewoo': 8,\n",
    "    'volkswagen': 1,\n",
    "    'audi': 2,\n",
    "    'bmw': 3,\n",
    "    'tesla': 9\n",
    "}\n",
    "\n",
    "set_n = len(fuzzy_set)\n",
    "f_set = pd.Series(fuzzy_set)\n",
    "print(f_set.to_string())\n"
   ]
  },
  {
   "cell_type": "code",
   "execution_count": 149,
   "metadata": {},
   "outputs": [
    {
     "data": {
      "text/plain": [
       "array([[1., 0., 0., 0., 0.],\n",
       "       [0., 1., 0., 0., 0.],\n",
       "       [0., 0., 1., 0., 0.],\n",
       "       [0., 0., 0., 1., 0.],\n",
       "       [8., 1., 2., 3., 9.]])"
      ]
     },
     "execution_count": 149,
     "metadata": {},
     "output_type": "execute_result"
    }
   ],
   "source": [
    "comp_matrix = np.eye(set_n)\n",
    "comp_matrix[set_n-1] = f_set.to_numpy()\n",
    "comp_matrix"
   ]
  },
  {
   "cell_type": "code",
   "execution_count": 150,
   "metadata": {},
   "outputs": [
    {
     "data": {
      "text/plain": [
       "array([[1.        , 0.125     , 0.25      , 0.375     , 0.125     ],\n",
       "       [8.        , 1.        , 2.        , 3.        , 1.        ],\n",
       "       [4.        , 0.5       , 1.        , 1.5       , 0.5       ],\n",
       "       [2.66666667, 0.33333333, 0.66666667, 1.        , 0.33333333],\n",
       "       [8.        , 1.        , 2.        , 3.        , 9.        ]])"
      ]
     },
     "execution_count": 150,
     "metadata": {},
     "output_type": "execute_result"
    }
   ],
   "source": [
    "for i in reversed(range(set_n-1)):\n",
    "    for j in range(i):\n",
    "        comp_matrix[i][j] = comp_matrix[i+1][j] / comp_matrix[i+1][i]\n",
    "for i in range(set_n):\n",
    "    for j in range(set_n):\n",
    "        if j > i:\n",
    "            comp_matrix[i][j] = 1 / comp_matrix[j][i]\n",
    "\n",
    "comp_matrix\n"
   ]
  },
  {
   "cell_type": "code",
   "execution_count": 151,
   "metadata": {},
   "outputs": [
    {
     "name": "stdout",
     "output_type": "stream",
     "text": [
      "              daewoo  volkswagen      audi    bmw     tesla\n",
      "daewoo      1.000000    0.125000  0.250000  0.375  0.125000\n",
      "volkswagen  8.000000    1.000000  2.000000  3.000  1.000000\n",
      "audi        4.000000    0.500000  1.000000  1.500  0.500000\n",
      "bmw         2.666667    0.333333  0.666667  1.000  0.333333\n",
      "tesla       8.000000    1.000000  2.000000  3.000  9.000000\n"
     ]
    },
    {
     "data": {
      "image/png": "[encoded data removed]",
      "text/plain": [
       "<Figure size 432x288 with 2 Axes>"
      ]
     },
     "metadata": {
      "needs_background": "light"
     },
     "output_type": "display_data"
    }
   ],
   "source": [
    "table = pd.DataFrame(\n",
    "    comp_matrix,\n",
    "    index=fuzzy_set.keys(),\n",
    "    columns=fuzzy_set.keys()\n",
    ")\n",
    "\n",
    "print(table)\n",
    "\n",
    "ax = sns.heatmap(table, cmap='PiYG', annot=True)\n",
    "ax.xaxis.tick_top()  # x axis on top\n"
   ]
  },
  {
   "cell_type": "code",
   "execution_count": 152,
   "metadata": {},
   "outputs": [
    {
     "data": {
      "text/html": [
       "<div>\n",
       "<style scoped>\n",
       "    .dataframe tbody tr th:only-of-type {\n",
       "        vertical-align: middle;\n",
       "    }\n",
       "\n",
       "    .dataframe tbody tr th {\n",
       "        vertical-align: top;\n",
       "    }\n",
       "\n",
       "    .dataframe thead th {\n",
       "        text-align: right;\n",
       "    }\n",
       "</style>\n",
       "<table border=\"1\" class=\"dataframe\">\n",
       "  <thead>\n",
       "    <tr style=\"text-align: right;\">\n",
       "      <th></th>\n",
       "      <th>daewoo</th>\n",
       "      <th>volkswagen</th>\n",
       "      <th>audi</th>\n",
       "      <th>bmw</th>\n",
       "      <th>tesla</th>\n",
       "    </tr>\n",
       "  </thead>\n",
       "  <tbody>\n",
       "    <tr>\n",
       "      <th>daewoo</th>\n",
       "      <td>1.000000</td>\n",
       "      <td>0.125000</td>\n",
       "      <td>0.250000</td>\n",
       "      <td>0.375000</td>\n",
       "      <td>0.125000</td>\n",
       "    </tr>\n",
       "    <tr>\n",
       "      <th>volkswagen</th>\n",
       "      <td>8.000000</td>\n",
       "      <td>1.000000</td>\n",
       "      <td>2.000000</td>\n",
       "      <td>3.000000</td>\n",
       "      <td>1.000000</td>\n",
       "    </tr>\n",
       "    <tr>\n",
       "      <th>audi</th>\n",
       "      <td>4.000000</td>\n",
       "      <td>0.500000</td>\n",
       "      <td>1.000000</td>\n",
       "      <td>1.500000</td>\n",
       "      <td>0.500000</td>\n",
       "    </tr>\n",
       "    <tr>\n",
       "      <th>bmw</th>\n",
       "      <td>2.666667</td>\n",
       "      <td>0.333333</td>\n",
       "      <td>0.666667</td>\n",
       "      <td>1.000000</td>\n",
       "      <td>0.333333</td>\n",
       "    </tr>\n",
       "    <tr>\n",
       "      <th>tesla</th>\n",
       "      <td>8.000000</td>\n",
       "      <td>1.000000</td>\n",
       "      <td>2.000000</td>\n",
       "      <td>3.000000</td>\n",
       "      <td>9.000000</td>\n",
       "    </tr>\n",
       "    <tr>\n",
       "      <th>1 row</th>\n",
       "      <td>23.666667</td>\n",
       "      <td>2.958333</td>\n",
       "      <td>5.916667</td>\n",
       "      <td>8.875000</td>\n",
       "      <td>10.958333</td>\n",
       "    </tr>\n",
       "    <tr>\n",
       "      <th>2 row</th>\n",
       "      <td>0.042254</td>\n",
       "      <td>0.338028</td>\n",
       "      <td>0.169014</td>\n",
       "      <td>0.112676</td>\n",
       "      <td>0.091255</td>\n",
       "    </tr>\n",
       "    <tr>\n",
       "      <th>M(x)</th>\n",
       "      <td>0.125000</td>\n",
       "      <td>1.000000</td>\n",
       "      <td>0.500000</td>\n",
       "      <td>0.333333</td>\n",
       "      <td>0.269962</td>\n",
       "    </tr>\n",
       "  </tbody>\n",
       "</table>\n",
       "</div>"
      ],
      "text/plain": [
       "               daewoo  volkswagen      audi       bmw      tesla\n",
       "daewoo       1.000000    0.125000  0.250000  0.375000   0.125000\n",
       "volkswagen   8.000000    1.000000  2.000000  3.000000   1.000000\n",
       "audi         4.000000    0.500000  1.000000  1.500000   0.500000\n",
       "bmw          2.666667    0.333333  0.666667  1.000000   0.333333\n",
       "tesla        8.000000    1.000000  2.000000  3.000000   9.000000\n",
       "1 row       23.666667    2.958333  5.916667  8.875000  10.958333\n",
       "2 row        0.042254    0.338028  0.169014  0.112676   0.091255\n",
       "M(x)         0.125000    1.000000  0.500000  0.333333   0.269962"
      ]
     },
     "execution_count": 152,
     "metadata": {},
     "output_type": "execute_result"
    }
   ],
   "source": [
    "column_sums = table.sum(axis=0).to_numpy()\n",
    "column_sums_inv = np.array([1/item for item in column_sums])\n",
    "max_item = column_sums_inv.max()\n",
    "m_x = np.array([item/max_item for item in column_sums_inv])\n",
    "table_2 = pd.DataFrame({\n",
    "    '1 row': column_sums,\n",
    "    '2 row': column_sums_inv,\n",
    "    'M(x)': m_x\n",
    "})\n",
    "table_2 = table_2.transpose()\n",
    "table_2.columns = fuzzy_set.keys()\n",
    "table = pd.concat([table, table_2])\n",
    "table\n"
   ]
  },
  {
   "cell_type": "code",
   "execution_count": 153,
   "metadata": {},
   "outputs": [
    {
     "data": {
      "image/png": "[encoded data removed]",
      "text/plain": [
       "<Figure size 432x288 with 1 Axes>"
      ]
     },
     "metadata": {
      "needs_background": "light"
     },
     "output_type": "display_data"
    }
   ],
   "source": [
    "plt.plot(sorted(fuzzy_set.values()), table.iloc[7], '--ob')\n",
    "plt.suptitle('Графік нечіткої множини швидкості автомобілів')\n",
    "plt.grid(True)\n"
   ]
  }
 ],
 "metadata": {
  "interpreter": {
   "hash": "1e649b193d03f972cce0fc4f5c57764441ad8ceea30bfcf30b505dea29a3b4c0"
  },
  "kernelspec": {
   "display_name": "Python 3.10.2 64-bit",
   "language": "python",
   "name": "python3"
  },
  "language_info": {
   "codemirror_mode": {
    "name": "ipython",
    "version": 3
   },
   "file_extension": ".py",
   "mimetype": "text/x-python",
   "name": "python",
   "nbconvert_exporter": "python",
   "pygments_lexer": "ipython3",
   "version": "3.10.2"
  },
  "orig_nbformat": 4
 },
 "nbformat": 4,
 "nbformat_minor": 2
}
